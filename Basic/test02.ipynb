{
 "cells": [
  {
   "cell_type": "markdown",
   "metadata": {},
   "source": [
    "# Line Graph"
   ]
  },
  {
   "cell_type": "markdown",
   "metadata": {},
   "source": [
    "## precess data"
   ]
  },
  {
   "cell_type": "code",
   "execution_count": 26,
   "metadata": {},
   "outputs": [],
   "source": [
    "import pandas as pd\n",
    "import numpy as np\n",
    "import matplotlib.pyplot as plt\n",
    "\n",
    "import os\n",
    "from typing import List"
   ]
  },
  {
   "cell_type": "markdown",
   "metadata": {},
   "source": [
    "dataset names"
   ]
  },
  {
   "cell_type": "code",
   "execution_count": 27,
   "metadata": {},
   "outputs": [],
   "source": [
    "dataset = [\"BUP\",\"Celegans\", \"USAir\", \"SMG\", \"EML\", \"NSC\", \"YST\", \"Router\", \"Power\", \"KHN\", \"ADV\", \"LDG\", \"HPD\", \"GRQ\", \"ZWL\"]"
   ]
  },
  {
   "cell_type": "markdown",
   "metadata": {},
   "source": [
    "从原始输出结果中，取出最好的结果"
   ]
  },
  {
   "cell_type": "code",
   "execution_count": 28,
   "metadata": {},
   "outputs": [],
   "source": [
    "def read_res(file_path: str, out_path) -> list:\n",
    "    \"\"\"\n",
    "        都是自找的，当初实验结果不好好存，搞到现在要自己写代码处理\n",
    "    \"\"\"\n",
    "    res_lines, start, count, num = [], 2, 12, len(dataset)\n",
    "    with open(file=file_path, mode='r', encoding='utf-8') as file:\n",
    "        lines = file.readlines()\n",
    "        for _ in range(num):\n",
    "            for offset in range(10):\n",
    "                res_lines.append(lines[start + offset])\n",
    "            start += count\n",
    "            \n",
    "    with open(file=out_path, mode=\"w\", encoding=\"utf-8\") as file:\n",
    "        file.writelines(res_lines)\n",
    "    return res_lines"
   ]
  },
  {
   "cell_type": "markdown",
   "metadata": {},
   "source": [
    "对上述结果字符串进行过滤，取出数值"
   ]
  },
  {
   "cell_type": "code",
   "execution_count": 29,
   "metadata": {},
   "outputs": [],
   "source": [
    "def map_func(elem: str) -> str:\n",
    "    res = []\n",
    "    elem = elem.split(\" \")\n",
    "    for i in range(1, len(elem)):\n",
    "        res.append(elem[i].split(\":\")[1])\n",
    "    return f'{res[1]} {res[2]} {res[0]}'\n",
    "\n",
    "\n",
    "def filt_res(lines: List[str]) -> List[str]:\n",
    "    return list(map(map_func, lines))"
   ]
  },
  {
   "cell_type": "markdown",
   "metadata": {},
   "source": [
    "使用pd计算统计数据，并保存excel"
   ]
  },
  {
   "cell_type": "code",
   "execution_count": 30,
   "metadata": {},
   "outputs": [],
   "source": [
    "def save_pd(lines: List[str], step=10) -> None:\n",
    "    '''\n",
    "        我好像没有必要使用pandas啊，我的数据都是txt\n",
    "    '''\n",
    "    num = len(lines) // step\n",
    "    out_excel = pd.ExcelWriter(\"res-ata-80.xlsx\")\n",
    "    for index in range(num):\n",
    "        start = index * step\n",
    "        auc_list, ap_list, acc_list = [], [], []\n",
    "        for offset in range(step):\n",
    "            line = lines[start + offset]\n",
    "            nums = line.split()\n",
    "            auc_list.append(float(nums[0]))\n",
    "            ap_list.append(float(nums[1]))\n",
    "            acc_list.append(float(nums[2]))\n",
    "        data_dict = {'auc': auc_list, 'ap': ap_list, 'acc': acc_list}\n",
    "        data_pd = pd.DataFrame(data_dict, dtype=float)\n",
    "        data_statistics = data_pd.agg([\"count\", \"mean\", \"std\", \"max\", \"min\"])\n",
    "        data_statistics.to_excel(out_excel, sheet_name=dataset[index], index_label=[\"count\", \"mean\", \"std\", \"max\", \"min\"])\n",
    "        data_statistics.plot()\n",
    "    out_excel.close()"
   ]
  },
  {
   "cell_type": "markdown",
   "metadata": {},
   "source": [
    "数据处理流程"
   ]
  },
  {
   "cell_type": "code",
   "execution_count": null,
   "metadata": {},
   "outputs": [],
   "source": [
    "res_name = \"res-ata-80\"\n",
    "file_dir = 'data/'\n",
    "filepath_in = os.path.join(file_dir, f'{res_name}.txt')\n",
    "filepath_out = os.path.join(file_dir, f'{res_name}_eval.txt')\n",
    "res_lines = read_res(filepath_in, filepath_out)\n",
    "\n",
    "res_lines = filt_res(res_lines)\n",
    "data_sta = save_pd(res_lines)"
   ]
  },
  {
   "cell_type": "markdown",
   "metadata": {},
   "source": [
    "读取excel文件"
   ]
  },
  {
   "cell_type": "code",
   "execution_count": 32,
   "metadata": {},
   "outputs": [
    {
     "name": "stdout",
     "output_type": "stream",
     "text": [
      "   count        auc         ap        acc\n",
      "0  count  10.000000  10.000000  10.000000\n",
      "1   mean   0.917858   0.909199   0.851137\n",
      "2    std   0.023887   0.026935   0.027938\n",
      "3    max   0.950930   0.941520   0.897730\n",
      "4    min   0.869960   0.859940   0.806820\n"
     ]
    }
   ],
   "source": [
    "df = pd.read_excel(\"res-ata-80.xlsx\", sheet_name='BUP')\n",
    "print(df)"
   ]
  }
 ],
 "metadata": {
  "interpreter": {
   "hash": "39d2b50b7b1e1939afa3a6f151b264369ceb5522a427c8ec9a64d95c7efa0058"
  },
  "kernelspec": {
   "display_name": "Python 3.8.11 64-bit ('mytorch': conda)",
   "language": "python",
   "name": "python3"
  },
  "language_info": {
   "codemirror_mode": {
    "name": "ipython",
    "version": 3
   },
   "file_extension": ".py",
   "mimetype": "text/x-python",
   "name": "python",
   "nbconvert_exporter": "python",
   "pygments_lexer": "ipython3",
   "version": "3.8.11"
  },
  "orig_nbformat": 4
 },
 "nbformat": 4,
 "nbformat_minor": 2
}
